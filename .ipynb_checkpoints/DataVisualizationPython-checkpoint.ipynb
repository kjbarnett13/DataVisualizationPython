{
 "cells": [
  {
   "cell_type": "markdown",
   "id": "de46ef7d",
   "metadata": {},
   "source": [
    "## A step-by-step guide to Data Visualizations in Python\n",
    "\n",
    "Follow along with [this article](https://medium.com/codex/step-by-step-guide-to-data-visualizations-in-python-b322129a1540).  We will be using [this .xlsx dataset](https://www.kaggle.com/roshansharma/immigration-to-canada-ibm-dataset) from Kaggle on Immigration to Canada from 1980–2013. No need to dowload it, it is already in the git repositroy you forked.<br>\n",
    "\n",
    "#### We suggest that instead of copy and pasting the code, you type it out.  This will help you become more familiar with the syntex and better understand it.\n"
   ]
  },
  {
   "cell_type": "markdown",
   "id": "36f3869c",
   "metadata": {},
   "source": [
    "### Step-1: Importing Packages"
   ]
  },
  {
   "cell_type": "code",
   "execution_count": 2,
   "id": "cad80a84",
   "metadata": {},
   "outputs": [],
   "source": [
    "#import all librarys and modules needed\n",
    "import pandas as pd \n",
    "import numpy as np\n",
    "import seaborn as sb\n",
    "import matplotlib.pyplot as plt\n",
    "import matplotlib as style\n",
    "\n",
    "style.use('WebAgg')\n",
    "plt.rcParams['figure.figsize']=(20,10)"
   ]
  },
  {
   "cell_type": "markdown",
   "id": "9e475669",
   "metadata": {},
   "source": [
    "### Step-2 : Importing and Cleaning Data "
   ]
  },
  {
   "cell_type": "code",
   "execution_count": 13,
   "id": "725a3f37",
   "metadata": {},
   "outputs": [
    {
     "name": "stderr",
     "output_type": "stream",
     "text": [
      "C:\\Users\\kenda\\AppData\\Local\\Temp/ipykernel_8204/4023933419.py:5: FutureWarning: Dropping of nuisance columns in DataFrame reductions (with 'numeric_only=None') is deprecated; in a future version this will raise TypeError.  Select only valid columns before calling the reduction.\n",
      "  df['Total']= df.sum(axis=1)\n"
     ]
    },
    {
     "data": {
      "text/html": [
       "<div>\n",
       "<style scoped>\n",
       "    .dataframe tbody tr th:only-of-type {\n",
       "        vertical-align: middle;\n",
       "    }\n",
       "\n",
       "    .dataframe tbody tr th {\n",
       "        vertical-align: top;\n",
       "    }\n",
       "\n",
       "    .dataframe thead th {\n",
       "        text-align: right;\n",
       "    }\n",
       "</style>\n",
       "<table border=\"1\" class=\"dataframe\">\n",
       "  <thead>\n",
       "    <tr style=\"text-align: right;\">\n",
       "      <th></th>\n",
       "      <th>Continent</th>\n",
       "      <th>Region</th>\n",
       "      <th>1980</th>\n",
       "      <th>1981</th>\n",
       "      <th>1982</th>\n",
       "      <th>1983</th>\n",
       "      <th>1984</th>\n",
       "      <th>1985</th>\n",
       "      <th>1986</th>\n",
       "      <th>1987</th>\n",
       "      <th>...</th>\n",
       "      <th>2005</th>\n",
       "      <th>2006</th>\n",
       "      <th>2007</th>\n",
       "      <th>2008</th>\n",
       "      <th>2009</th>\n",
       "      <th>2010</th>\n",
       "      <th>2011</th>\n",
       "      <th>2012</th>\n",
       "      <th>2013</th>\n",
       "      <th>Total</th>\n",
       "    </tr>\n",
       "    <tr>\n",
       "      <th>Country</th>\n",
       "      <th></th>\n",
       "      <th></th>\n",
       "      <th></th>\n",
       "      <th></th>\n",
       "      <th></th>\n",
       "      <th></th>\n",
       "      <th></th>\n",
       "      <th></th>\n",
       "      <th></th>\n",
       "      <th></th>\n",
       "      <th></th>\n",
       "      <th></th>\n",
       "      <th></th>\n",
       "      <th></th>\n",
       "      <th></th>\n",
       "      <th></th>\n",
       "      <th></th>\n",
       "      <th></th>\n",
       "      <th></th>\n",
       "      <th></th>\n",
       "      <th></th>\n",
       "    </tr>\n",
       "  </thead>\n",
       "  <tbody>\n",
       "    <tr>\n",
       "      <th>Afghanistan</th>\n",
       "      <td>Asia</td>\n",
       "      <td>Southern Asia</td>\n",
       "      <td>16</td>\n",
       "      <td>39</td>\n",
       "      <td>39</td>\n",
       "      <td>47</td>\n",
       "      <td>71</td>\n",
       "      <td>340</td>\n",
       "      <td>496</td>\n",
       "      <td>741</td>\n",
       "      <td>...</td>\n",
       "      <td>3436</td>\n",
       "      <td>3009</td>\n",
       "      <td>2652</td>\n",
       "      <td>2111</td>\n",
       "      <td>1746</td>\n",
       "      <td>1758</td>\n",
       "      <td>2203</td>\n",
       "      <td>2635</td>\n",
       "      <td>2004</td>\n",
       "      <td>58639</td>\n",
       "    </tr>\n",
       "    <tr>\n",
       "      <th>Albania</th>\n",
       "      <td>Europe</td>\n",
       "      <td>Southern Europe</td>\n",
       "      <td>1</td>\n",
       "      <td>0</td>\n",
       "      <td>0</td>\n",
       "      <td>0</td>\n",
       "      <td>0</td>\n",
       "      <td>0</td>\n",
       "      <td>1</td>\n",
       "      <td>2</td>\n",
       "      <td>...</td>\n",
       "      <td>1223</td>\n",
       "      <td>856</td>\n",
       "      <td>702</td>\n",
       "      <td>560</td>\n",
       "      <td>716</td>\n",
       "      <td>561</td>\n",
       "      <td>539</td>\n",
       "      <td>620</td>\n",
       "      <td>603</td>\n",
       "      <td>15699</td>\n",
       "    </tr>\n",
       "    <tr>\n",
       "      <th>Algeria</th>\n",
       "      <td>Africa</td>\n",
       "      <td>Northern Africa</td>\n",
       "      <td>80</td>\n",
       "      <td>67</td>\n",
       "      <td>71</td>\n",
       "      <td>69</td>\n",
       "      <td>63</td>\n",
       "      <td>44</td>\n",
       "      <td>69</td>\n",
       "      <td>132</td>\n",
       "      <td>...</td>\n",
       "      <td>3626</td>\n",
       "      <td>4807</td>\n",
       "      <td>3623</td>\n",
       "      <td>4005</td>\n",
       "      <td>5393</td>\n",
       "      <td>4752</td>\n",
       "      <td>4325</td>\n",
       "      <td>3774</td>\n",
       "      <td>4331</td>\n",
       "      <td>69439</td>\n",
       "    </tr>\n",
       "    <tr>\n",
       "      <th>American Samoa</th>\n",
       "      <td>Oceania</td>\n",
       "      <td>Polynesia</td>\n",
       "      <td>0</td>\n",
       "      <td>1</td>\n",
       "      <td>0</td>\n",
       "      <td>0</td>\n",
       "      <td>0</td>\n",
       "      <td>0</td>\n",
       "      <td>0</td>\n",
       "      <td>1</td>\n",
       "      <td>...</td>\n",
       "      <td>0</td>\n",
       "      <td>1</td>\n",
       "      <td>0</td>\n",
       "      <td>0</td>\n",
       "      <td>0</td>\n",
       "      <td>0</td>\n",
       "      <td>0</td>\n",
       "      <td>0</td>\n",
       "      <td>0</td>\n",
       "      <td>6</td>\n",
       "    </tr>\n",
       "    <tr>\n",
       "      <th>Andorra</th>\n",
       "      <td>Europe</td>\n",
       "      <td>Southern Europe</td>\n",
       "      <td>0</td>\n",
       "      <td>0</td>\n",
       "      <td>0</td>\n",
       "      <td>0</td>\n",
       "      <td>0</td>\n",
       "      <td>0</td>\n",
       "      <td>2</td>\n",
       "      <td>0</td>\n",
       "      <td>...</td>\n",
       "      <td>0</td>\n",
       "      <td>1</td>\n",
       "      <td>1</td>\n",
       "      <td>0</td>\n",
       "      <td>0</td>\n",
       "      <td>0</td>\n",
       "      <td>0</td>\n",
       "      <td>1</td>\n",
       "      <td>1</td>\n",
       "      <td>15</td>\n",
       "    </tr>\n",
       "    <tr>\n",
       "      <th>...</th>\n",
       "      <td>...</td>\n",
       "      <td>...</td>\n",
       "      <td>...</td>\n",
       "      <td>...</td>\n",
       "      <td>...</td>\n",
       "      <td>...</td>\n",
       "      <td>...</td>\n",
       "      <td>...</td>\n",
       "      <td>...</td>\n",
       "      <td>...</td>\n",
       "      <td>...</td>\n",
       "      <td>...</td>\n",
       "      <td>...</td>\n",
       "      <td>...</td>\n",
       "      <td>...</td>\n",
       "      <td>...</td>\n",
       "      <td>...</td>\n",
       "      <td>...</td>\n",
       "      <td>...</td>\n",
       "      <td>...</td>\n",
       "      <td>...</td>\n",
       "    </tr>\n",
       "    <tr>\n",
       "      <th>Viet Nam</th>\n",
       "      <td>Asia</td>\n",
       "      <td>South-Eastern Asia</td>\n",
       "      <td>1191</td>\n",
       "      <td>1829</td>\n",
       "      <td>2162</td>\n",
       "      <td>3404</td>\n",
       "      <td>7583</td>\n",
       "      <td>5907</td>\n",
       "      <td>2741</td>\n",
       "      <td>1406</td>\n",
       "      <td>...</td>\n",
       "      <td>1852</td>\n",
       "      <td>3153</td>\n",
       "      <td>2574</td>\n",
       "      <td>1784</td>\n",
       "      <td>2171</td>\n",
       "      <td>1942</td>\n",
       "      <td>1723</td>\n",
       "      <td>1731</td>\n",
       "      <td>2112</td>\n",
       "      <td>97146</td>\n",
       "    </tr>\n",
       "    <tr>\n",
       "      <th>Western Sahara</th>\n",
       "      <td>Africa</td>\n",
       "      <td>Northern Africa</td>\n",
       "      <td>0</td>\n",
       "      <td>0</td>\n",
       "      <td>0</td>\n",
       "      <td>0</td>\n",
       "      <td>0</td>\n",
       "      <td>0</td>\n",
       "      <td>0</td>\n",
       "      <td>0</td>\n",
       "      <td>...</td>\n",
       "      <td>0</td>\n",
       "      <td>1</td>\n",
       "      <td>0</td>\n",
       "      <td>0</td>\n",
       "      <td>0</td>\n",
       "      <td>0</td>\n",
       "      <td>0</td>\n",
       "      <td>0</td>\n",
       "      <td>0</td>\n",
       "      <td>2</td>\n",
       "    </tr>\n",
       "    <tr>\n",
       "      <th>Yemen</th>\n",
       "      <td>Asia</td>\n",
       "      <td>Western Asia</td>\n",
       "      <td>1</td>\n",
       "      <td>2</td>\n",
       "      <td>1</td>\n",
       "      <td>6</td>\n",
       "      <td>0</td>\n",
       "      <td>18</td>\n",
       "      <td>7</td>\n",
       "      <td>12</td>\n",
       "      <td>...</td>\n",
       "      <td>161</td>\n",
       "      <td>140</td>\n",
       "      <td>122</td>\n",
       "      <td>133</td>\n",
       "      <td>128</td>\n",
       "      <td>211</td>\n",
       "      <td>160</td>\n",
       "      <td>174</td>\n",
       "      <td>217</td>\n",
       "      <td>2985</td>\n",
       "    </tr>\n",
       "    <tr>\n",
       "      <th>Zambia</th>\n",
       "      <td>Africa</td>\n",
       "      <td>Eastern Africa</td>\n",
       "      <td>11</td>\n",
       "      <td>17</td>\n",
       "      <td>11</td>\n",
       "      <td>7</td>\n",
       "      <td>16</td>\n",
       "      <td>9</td>\n",
       "      <td>15</td>\n",
       "      <td>23</td>\n",
       "      <td>...</td>\n",
       "      <td>91</td>\n",
       "      <td>77</td>\n",
       "      <td>71</td>\n",
       "      <td>64</td>\n",
       "      <td>60</td>\n",
       "      <td>102</td>\n",
       "      <td>69</td>\n",
       "      <td>46</td>\n",
       "      <td>59</td>\n",
       "      <td>1677</td>\n",
       "    </tr>\n",
       "    <tr>\n",
       "      <th>Zimbabwe</th>\n",
       "      <td>Africa</td>\n",
       "      <td>Eastern Africa</td>\n",
       "      <td>72</td>\n",
       "      <td>114</td>\n",
       "      <td>102</td>\n",
       "      <td>44</td>\n",
       "      <td>32</td>\n",
       "      <td>29</td>\n",
       "      <td>43</td>\n",
       "      <td>68</td>\n",
       "      <td>...</td>\n",
       "      <td>615</td>\n",
       "      <td>454</td>\n",
       "      <td>663</td>\n",
       "      <td>611</td>\n",
       "      <td>508</td>\n",
       "      <td>494</td>\n",
       "      <td>434</td>\n",
       "      <td>437</td>\n",
       "      <td>407</td>\n",
       "      <td>8598</td>\n",
       "    </tr>\n",
       "  </tbody>\n",
       "</table>\n",
       "<p>195 rows × 37 columns</p>\n",
       "</div>"
      ],
      "text/plain": [
       "               Continent              Region  1980  1981  1982  1983  1984  \\\n",
       "Country                                                                      \n",
       "Afghanistan         Asia       Southern Asia    16    39    39    47    71   \n",
       "Albania           Europe     Southern Europe     1     0     0     0     0   \n",
       "Algeria           Africa     Northern Africa    80    67    71    69    63   \n",
       "American Samoa   Oceania           Polynesia     0     1     0     0     0   \n",
       "Andorra           Europe     Southern Europe     0     0     0     0     0   \n",
       "...                  ...                 ...   ...   ...   ...   ...   ...   \n",
       "Viet Nam            Asia  South-Eastern Asia  1191  1829  2162  3404  7583   \n",
       "Western Sahara    Africa     Northern Africa     0     0     0     0     0   \n",
       "Yemen               Asia        Western Asia     1     2     1     6     0   \n",
       "Zambia            Africa      Eastern Africa    11    17    11     7    16   \n",
       "Zimbabwe          Africa      Eastern Africa    72   114   102    44    32   \n",
       "\n",
       "                1985  1986  1987  ...  2005  2006  2007  2008  2009  2010  \\\n",
       "Country                           ...                                       \n",
       "Afghanistan      340   496   741  ...  3436  3009  2652  2111  1746  1758   \n",
       "Albania            0     1     2  ...  1223   856   702   560   716   561   \n",
       "Algeria           44    69   132  ...  3626  4807  3623  4005  5393  4752   \n",
       "American Samoa     0     0     1  ...     0     1     0     0     0     0   \n",
       "Andorra            0     2     0  ...     0     1     1     0     0     0   \n",
       "...              ...   ...   ...  ...   ...   ...   ...   ...   ...   ...   \n",
       "Viet Nam        5907  2741  1406  ...  1852  3153  2574  1784  2171  1942   \n",
       "Western Sahara     0     0     0  ...     0     1     0     0     0     0   \n",
       "Yemen             18     7    12  ...   161   140   122   133   128   211   \n",
       "Zambia             9    15    23  ...    91    77    71    64    60   102   \n",
       "Zimbabwe          29    43    68  ...   615   454   663   611   508   494   \n",
       "\n",
       "                2011  2012  2013  Total  \n",
       "Country                                  \n",
       "Afghanistan     2203  2635  2004  58639  \n",
       "Albania          539   620   603  15699  \n",
       "Algeria         4325  3774  4331  69439  \n",
       "American Samoa     0     0     0      6  \n",
       "Andorra            0     1     1     15  \n",
       "...              ...   ...   ...    ...  \n",
       "Viet Nam        1723  1731  2112  97146  \n",
       "Western Sahara     0     0     0      2  \n",
       "Yemen            160   174   217   2985  \n",
       "Zambia            69    46    59   1677  \n",
       "Zimbabwe         434   437   407   8598  \n",
       "\n",
       "[195 rows x 37 columns]"
      ]
     },
     "execution_count": 13,
     "metadata": {},
     "output_type": "execute_result"
    }
   ],
   "source": [
    "#import and clean data, remember path is data/Canada.xlsx\n",
    "df = pd.read_excel('data/Canada.xlsx',1,skiprows = range(20),skipfooter =2)\n",
    "df.drop(['AREA','REG','DEV','Type','Coverage','DevName'], axis=1, inplace = True)\n",
    "df.rename(columns = {'OdName':'Country','AreaName':'Continent','RegName':'Region'},inplace= True)\n",
    "df['Total']= df.sum(axis=1)\n",
    "df = df.set_index('Country')\n",
    "df.rename(index = {'United Kingdom of Great Britain and Northern Ireland':'UKn& Ireland'}, inplace= True)\n",
    "df.columns = df.columns.astype(str)\n",
    "years = list(map(str,range(1980,2013)))\n",
    "df"
   ]
  },
  {
   "cell_type": "markdown",
   "id": "517c0bf9",
   "metadata": {},
   "source": [
    "### Step-3 : Creating Beautiful Visualizations\n",
    "\n",
    "#### Line Chart"
   ]
  },
  {
   "cell_type": "code",
   "execution_count": 1,
   "id": "24e86697",
   "metadata": {},
   "outputs": [],
   "source": [
    "# Single line chart\n",
    "\n"
   ]
  },
  {
   "cell_type": "code",
   "execution_count": 2,
   "id": "fed6d30a",
   "metadata": {},
   "outputs": [],
   "source": [
    "# Multiple Line chart \n"
   ]
  },
  {
   "cell_type": "markdown",
   "id": "966ec2fb",
   "metadata": {},
   "source": [
    "#### Lets talk about style   "
   ]
  },
  {
   "cell_type": "code",
   "execution_count": 3,
   "id": "5fc473cf",
   "metadata": {},
   "outputs": [],
   "source": [
    "#Shows all avaiable built-in styles\n",
    "print(plt.style.available)"
   ]
  },
  {
   "cell_type": "markdown",
   "id": "28feffa4",
   "metadata": {},
   "source": [
    "To see a visualization of the aviable style sheets [click here](https://matplotlib.org/stable/gallery/style_sheets/style_sheets_reference.html). \n",
    "\n",
    "Syntex to select a specific style is: plt.style.use('style_name') \n",
    "\n",
    "Try it out by adding the line of code to the top of the code block above and choose one of the preinstalled styles. Which style is your favorite?<br><br>\n",
    "\n",
    "What happens when you change the line- plt.legend(loc = 'upper left', fontsize = 12) to plt.legend(loc = 'lower right', fontsize = 12)? <br><br><br><br>\n",
    "\n",
    "\n",
    "\n",
    "Experiment changing other lines of the code and see how the graph changes. Add any notes or observations here. Going forward feel free to experiment with each graph type<br><br><br><br><br><br>"
   ]
  },
  {
   "cell_type": "markdown",
   "id": "d9153254",
   "metadata": {},
   "source": [
    "#### Install mplcyberpunk\n",
    "Open a terminal window and at at the prompt type:\n",
    "\n",
    "python -V\n",
    "\n",
    "If its python 3.something, copy and paste: pip install mplcyberpunk\n",
    "If its python 2.something, copy and paste: pip3 install mplcyberpunk\n",
    "\n",
    "\n",
    "For more info on mplcyberpunk click [here.](https://github.com/dhaitz/mplcyberpunk)"
   ]
  },
  {
   "cell_type": "code",
   "execution_count": 4,
   "id": "d6532a85",
   "metadata": {},
   "outputs": [],
   "source": [
    "# Cyberpunk Multiple Line Chart\n",
    "\n"
   ]
  },
  {
   "cell_type": "markdown",
   "id": "01dbbde2",
   "metadata": {},
   "source": [
    "#### Bar Chart"
   ]
  },
  {
   "cell_type": "code",
   "execution_count": 5,
   "id": "f3930bde",
   "metadata": {},
   "outputs": [],
   "source": [
    "# Vertical bar chart\n",
    "# Do not change the style back to ggplot \n",
    "# delete the style.use('ggplot') line of code\n",
    "\n"
   ]
  },
  {
   "cell_type": "markdown",
   "id": "ee20b2db",
   "metadata": {},
   "source": [
    "Notice that style is still set to cyberpunk.  How do we fix it so we can see the labels?<br> <br>\n",
    "\n",
    "Answer: change the color = 'black' to 'white'\n",
    "\n",
    "Feel free to experiment and add any notes or observations here. <br><br><br><br><br>"
   ]
  },
  {
   "cell_type": "code",
   "execution_count": 7,
   "id": "8c76e7b3",
   "metadata": {},
   "outputs": [],
   "source": [
    "# Horizontal bar chart\n",
    "#change style back to ggplt\n"
   ]
  },
  {
   "cell_type": "markdown",
   "id": "7fcf08a3",
   "metadata": {},
   "source": [
    "Feel free to experiment and add any notes or observations here. <br><br><br><br><br>"
   ]
  },
  {
   "cell_type": "code",
   "execution_count": 8,
   "id": "64b65871",
   "metadata": {},
   "outputs": [],
   "source": [
    "# Grouped bar chart\n"
   ]
  },
  {
   "cell_type": "markdown",
   "id": "f4c40b4e",
   "metadata": {},
   "source": [
    "Notice how the labels in the legend have disapeared?  We can fix this by adding labelcolor='k' to plt.legend<br>\n",
    "<br>plt.legend(title = 'Country', fontsize = 12, labelcolor='black')\n",
    "\n"
   ]
  },
  {
   "cell_type": "markdown",
   "id": "c1fe51d0",
   "metadata": {},
   "source": [
    "Feel free to experiment and add any notes or observations here. <br><br><br><br><br>"
   ]
  },
  {
   "cell_type": "markdown",
   "id": "19f08118",
   "metadata": {},
   "source": [
    "#### Area Chart"
   ]
  },
  {
   "cell_type": "code",
   "execution_count": 9,
   "id": "509687c7",
   "metadata": {},
   "outputs": [],
   "source": [
    "# Area Chart\n"
   ]
  },
  {
   "cell_type": "markdown",
   "id": "4d408e89",
   "metadata": {},
   "source": [
    "Feel free to experiment and add any notes or observations here. <br><br><br><br><br>"
   ]
  },
  {
   "cell_type": "code",
   "execution_count": 10,
   "id": "7989e6ac",
   "metadata": {},
   "outputs": [],
   "source": [
    "# cyberpunk simple area chart\n"
   ]
  },
  {
   "cell_type": "markdown",
   "id": "420631dd",
   "metadata": {},
   "source": [
    "Feel free to experiment and add any notes or observations here. <br><br><br><br><br>"
   ]
  },
  {
   "cell_type": "code",
   "execution_count": 11,
   "id": "9bc1454c",
   "metadata": {},
   "outputs": [],
   "source": [
    "# stacked area chart\n"
   ]
  },
  {
   "cell_type": "markdown",
   "id": "503f68a3",
   "metadata": {},
   "source": [
    "Feel free to experiment and add any notes or observations here. <br><br><br><br><br>"
   ]
  },
  {
   "cell_type": "code",
   "execution_count": 12,
   "id": "c0dd9e02",
   "metadata": {},
   "outputs": [],
   "source": [
    "# unstacked area chart\n"
   ]
  },
  {
   "cell_type": "markdown",
   "id": "35834e39",
   "metadata": {},
   "source": [
    "Feel free to experiment and add any notes or observations here. <br><br><br><br><br>"
   ]
  },
  {
   "cell_type": "markdown",
   "id": "3d866890",
   "metadata": {},
   "source": [
    "#### Box Plot"
   ]
  },
  {
   "cell_type": "code",
   "execution_count": 13,
   "id": "43991b65",
   "metadata": {},
   "outputs": [],
   "source": [
    "# Vertical Box Plot\n"
   ]
  },
  {
   "cell_type": "markdown",
   "id": "947dc4d8",
   "metadata": {},
   "source": [
    "Feel free to experiment and add any notes or observations here. <br><br><br><br><br>"
   ]
  },
  {
   "cell_type": "code",
   "execution_count": 14,
   "id": "e1b2f85d",
   "metadata": {},
   "outputs": [],
   "source": [
    "# horizontal box plot\n"
   ]
  },
  {
   "cell_type": "markdown",
   "id": "cfdd9f82",
   "metadata": {},
   "source": [
    "Feel free to experiment and add any notes or observations here. <br><br><br><br><br>"
   ]
  },
  {
   "cell_type": "markdown",
   "id": "b479350f",
   "metadata": {},
   "source": [
    "#### Scatter Plot\n",
    "\n",
    "With the newist version of Seaborn we have to specify x and y.\n",
    "\n",
    "example: sb.scatterplot(x = 'sepal_length', y = 'sepal_width', data = df_iris)"
   ]
  },
  {
   "cell_type": "code",
   "execution_count": 15,
   "id": "43dbcd4f",
   "metadata": {},
   "outputs": [],
   "source": [
    "#scatter plot comparing sepal length to sepal width\n"
   ]
  },
  {
   "cell_type": "markdown",
   "id": "4e6d47b5",
   "metadata": {},
   "source": [
    "Feel free to experiment and add any notes or observations here. <br><br><br><br><br>"
   ]
  },
  {
   "cell_type": "markdown",
   "id": "1277af5c",
   "metadata": {},
   "source": [
    "#### Histogram\n",
    "\n",
    "With the newist version of Seaborn they have deprecated distplot. Replace distplot with histplot and add kde = True\n",
    "\n",
    "example:\n",
    "sb.histplot(df_iris['sepal_length'], color = 'Red', label = 'Sepal Length', kde = True)"
   ]
  },
  {
   "cell_type": "code",
   "execution_count": 16,
   "id": "d0ac74c1",
   "metadata": {},
   "outputs": [],
   "source": [
    "#Histogram side by side, with kde\n"
   ]
  },
  {
   "cell_type": "markdown",
   "id": "0eb4855a",
   "metadata": {},
   "source": [
    "Feel free to experiment and add any notes or observations here. <br><br><br><br><br>"
   ]
  },
  {
   "cell_type": "markdown",
   "id": "71cdde5b",
   "metadata": {},
   "source": [
    "#### Bubble Plot"
   ]
  },
  {
   "cell_type": "code",
   "execution_count": 17,
   "id": "d6544f40",
   "metadata": {},
   "outputs": [],
   "source": [
    "# Bubble Plot\n"
   ]
  },
  {
   "cell_type": "markdown",
   "id": "9e3dde2c",
   "metadata": {},
   "source": [
    "Feel free to experiment and add any notes or observations here. <br><br><br><br><br>"
   ]
  },
  {
   "cell_type": "markdown",
   "id": "6809d6ad",
   "metadata": {},
   "source": [
    "#### Pie Chart\n",
    "\n",
    "Skip this one as the code throws an error. "
   ]
  },
  {
   "cell_type": "markdown",
   "id": "17ca2784",
   "metadata": {},
   "source": [
    "df_pie = pd.DataFrame(df.groupby('continent')['total'].sum().T)\n",
    "colors = ['gold', 'yellowgreen', 'lightcoral', 'lightskyblue', 'lightgreen', 'pink']\n",
    "explode = [0,0.1,0,0,0.1,0.1]\n",
    "\n",
    "plt.pie(df_pie, colors = colors, autopct = '%1.1f%%', startangle = 90, explode = explode, pctdistance = 1.12, shadow = True)\n",
    "plt.title('Continent-Wise Immigrants Distribution', color = 'black', y = 1.1, fontsize = 18)\n",
    "plt.legend(df_pie.index, loc = 'upper left', fontsize = 12)\n",
    "plt.axis('equal')\n",
    "plt.savefig('pie.png')\n",
    "\n",
    "plt.show()"
   ]
  },
  {
   "cell_type": "markdown",
   "id": "c2dd3923",
   "metadata": {},
   "source": [
    "#### Doughnut Chart"
   ]
  },
  {
   "cell_type": "code",
   "execution_count": 18,
   "id": "e1ed45a2",
   "metadata": {},
   "outputs": [],
   "source": [
    "# Doughnut Chart\n"
   ]
  },
  {
   "cell_type": "markdown",
   "id": "9fdda71d",
   "metadata": {},
   "source": [
    "Feel free to experiment and add any notes or observations here. <br><br><br><br><br>"
   ]
  },
  {
   "cell_type": "markdown",
   "id": "dba1dc8e",
   "metadata": {},
   "source": [
    "#### Regression Plot"
   ]
  },
  {
   "cell_type": "code",
   "execution_count": 19,
   "id": "bc5f6f24",
   "metadata": {},
   "outputs": [],
   "source": [
    "# Strong trend\n"
   ]
  },
  {
   "cell_type": "markdown",
   "id": "66c55013",
   "metadata": {},
   "source": [
    "Feel free to experiment and add any notes or observations here. <br><br><br><br><br>"
   ]
  },
  {
   "cell_type": "code",
   "execution_count": 20,
   "id": "0aeed0b5",
   "metadata": {},
   "outputs": [],
   "source": [
    "# Weak trend\n"
   ]
  },
  {
   "cell_type": "markdown",
   "id": "88bca541",
   "metadata": {},
   "source": [
    "Feel free to experiment and add any notes or observations here. <br><br><br><br><br>"
   ]
  },
  {
   "cell_type": "markdown",
   "id": "6646021e",
   "metadata": {},
   "source": [
    "#### Word Cloud\n",
    "\n",
    "You might need to pip install wordcloud and pip install Pywaffle.  Follow the instruction from when you installed cyperpunk earlier.\n",
    "\n",
    "Make sure to add the txt files from [here](https://github.com/codinglikeagirl42/DataVisualizationPython) to your data folder and remember the path is data/filename.txt. Try creating your own txt file to visualize."
   ]
  },
  {
   "cell_type": "code",
   "execution_count": 21,
   "id": "4d96e72c",
   "metadata": {},
   "outputs": [],
   "source": [
    "# word cloud\n",
    "from wordcloud import WordCloud, STOPWORDS\n"
   ]
  },
  {
   "cell_type": "markdown",
   "id": "0b7cf536",
   "metadata": {},
   "source": [
    "Feel free to experiment and add any notes or observations here. <br><br><br><br><br>"
   ]
  },
  {
   "cell_type": "markdown",
   "id": "db66a359",
   "metadata": {},
   "source": [
    "#### Lollipop Chart"
   ]
  },
  {
   "cell_type": "code",
   "execution_count": 22,
   "id": "073f2112",
   "metadata": {},
   "outputs": [],
   "source": [
    "# Lollipop chart\n"
   ]
  },
  {
   "cell_type": "markdown",
   "id": "32843553",
   "metadata": {},
   "source": [
    "Feel free to experiment and add any notes or observations here. <br><br><br><br><br>"
   ]
  },
  {
   "cell_type": "code",
   "execution_count": null,
   "id": "d01fb5e5",
   "metadata": {},
   "outputs": [],
   "source": []
  }
 ],
 "metadata": {
  "kernelspec": {
   "display_name": "Python 3 (ipykernel)",
   "language": "python",
   "name": "python3"
  },
  "language_info": {
   "codemirror_mode": {
    "name": "ipython",
    "version": 3
   },
   "file_extension": ".py",
   "mimetype": "text/x-python",
   "name": "python",
   "nbconvert_exporter": "python",
   "pygments_lexer": "ipython3",
   "version": "3.9.7"
  }
 },
 "nbformat": 4,
 "nbformat_minor": 5
}
